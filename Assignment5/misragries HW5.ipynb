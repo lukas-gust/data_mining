{
 "cells": [
  {
   "cell_type": "markdown",
   "metadata": {},
   "source": [
    "# Misra-Gries"
   ]
  },
  {
   "cell_type": "code",
   "execution_count": 1,
   "metadata": {},
   "outputs": [],
   "source": [
    "import misragries"
   ]
  },
  {
   "cell_type": "code",
   "execution_count": 2,
   "metadata": {},
   "outputs": [],
   "source": [
    "mg = misragries.MG(9)\n",
    "\n",
    "with open('S1.txt','rb') as fp:\n",
    "    mg.process_stream(fp.readline().decode())"
   ]
  },
  {
   "cell_type": "code",
   "execution_count": 3,
   "metadata": {},
   "outputs": [
    {
     "data": {
      "text/plain": [
       "Counter({'a': 330000, 'b': 600000, 'c': 450000})"
      ]
     },
     "execution_count": 3,
     "metadata": {},
     "output_type": "execute_result"
    }
   ],
   "source": [
    "mg.c"
   ]
  },
  {
   "cell_type": "code",
   "execution_count": 4,
   "metadata": {},
   "outputs": [
    {
     "name": "stdout",
     "output_type": "stream",
     "text": [
      "'a' Maybe\n",
      "'c' Maybe\n",
      "'b' No.\n"
     ]
    }
   ],
   "source": [
    "m = 3000000\n",
    "k = 10\n",
    "for l,n in mg.c.items():\n",
    "    if n > .2*m:\n",
    "        print('\\'{}\\' must occur more than 20% of the time'.format(l))\n",
    "    elif m/k < n < .2*m:\n",
    "        print('\\'{}\\' Maybe'.format(l))\n",
    "    else:\n",
    "        print('\\'{}\\' No.'.format(l))"
   ]
  },
  {
   "cell_type": "code",
   "execution_count": 5,
   "metadata": {},
   "outputs": [],
   "source": [
    "mg = misragries.MG(9)\n",
    "\n",
    "with open('S2.txt','rb') as fp:\n",
    "    mg.process_stream(fp.readline().decode())"
   ]
  },
  {
   "cell_type": "code",
   "execution_count": 6,
   "metadata": {},
   "outputs": [
    {
     "data": {
      "text/plain": [
       "Counter({'a': 865008,\n",
       "         'b': 371334,\n",
       "         'c': 572379,\n",
       "         'g': 1,\n",
       "         'p': 1,\n",
       "         'q': 1,\n",
       "         'x': 1})"
      ]
     },
     "execution_count": 6,
     "metadata": {},
     "output_type": "execute_result"
    }
   ],
   "source": [
    "mg.c"
   ]
  },
  {
   "cell_type": "code",
   "execution_count": 7,
   "metadata": {},
   "outputs": [
    {
     "name": "stdout",
     "output_type": "stream",
     "text": [
      "'a' must occur more than 20% of the time\n",
      "'c' Maybe\n",
      "'b' No.\n",
      "'x' No.\n",
      "'q' No.\n",
      "'p' No.\n",
      "'g' No.\n"
     ]
    }
   ],
   "source": [
    "m = 4000000\n",
    "k = 10\n",
    "for l,n in mg.c.items():\n",
    "    if n > .2*m:\n",
    "        print('\\'{}\\' must occur more than 20% of the time'.format(l))\n",
    "    elif m/k < n < .2*m:\n",
    "        print('\\'{}\\' Maybe'.format(l))\n",
    "    else:\n",
    "        print('\\'{}\\' No.'.format(l))"
   ]
  },
  {
   "cell_type": "markdown",
   "metadata": {},
   "source": [
    "# Count-Min sketch"
   ]
  },
  {
   "cell_type": "code",
   "execution_count": 8,
   "metadata": {},
   "outputs": [],
   "source": [
    "from Count_Min_Sketch import CountMinSketch"
   ]
  },
  {
   "cell_type": "code",
   "execution_count": 17,
   "metadata": {},
   "outputs": [],
   "source": [
    "cms = CountMinSketch(10,5)\n",
    "\n",
    "with open('S1.txt','rb') as fp:\n",
    "    cms.process_stream(fp.readline().decode())"
   ]
  },
  {
   "cell_type": "code",
   "execution_count": 18,
   "metadata": {
    "scrolled": true
   },
   "outputs": [
    {
     "name": "stdout",
     "output_type": "stream",
     "text": [
      "a : 557077\n",
      "b : 826791\n",
      "c : 677106\n"
     ]
    }
   ],
   "source": [
    "s = 'abc'\n",
    "for ch in s:\n",
    "    print('{} : {}'.format(ch,cms.count_min(ch)))"
   ]
  },
  {
   "cell_type": "code",
   "execution_count": 19,
   "metadata": {},
   "outputs": [
    {
     "name": "stdout",
     "output_type": "stream",
     "text": [
      "'a' No\n",
      "'b' Maybe\n",
      "'c' Maybe\n"
     ]
    }
   ],
   "source": [
    "m = 3000000\n",
    "k = 10\n",
    "for ch in s:\n",
    "    n = cms.count_min(ch)\n",
    "    if .2*m < n :\n",
    "        print('\\'{}\\' Maybe'.format(ch))\n",
    "    else:\n",
    "        print('\\'{}\\' No'.format(ch))"
   ]
  },
  {
   "cell_type": "code",
   "execution_count": 20,
   "metadata": {},
   "outputs": [],
   "source": [
    "cms = CountMinSketch(10,5)\n",
    "\n",
    "with open('S2.txt','rb') as fp:\n",
    "    cms.process_stream(fp.readline().decode())"
   ]
  },
  {
   "cell_type": "code",
   "execution_count": 21,
   "metadata": {},
   "outputs": [
    {
     "name": "stdout",
     "output_type": "stream",
     "text": [
      "a : 1235102\n",
      "b : 868829\n",
      "c : 943539\n"
     ]
    }
   ],
   "source": [
    "s = 'abc'\n",
    "for ch in s:\n",
    "    print('{} : {}'.format(ch,cms.count_min(ch)))"
   ]
  },
  {
   "cell_type": "code",
   "execution_count": 33,
   "metadata": {},
   "outputs": [
    {
     "name": "stdout",
     "output_type": "stream",
     "text": [
      "'a' Maybe\n",
      "'b' Maybe\n",
      "'c' Maybe\n"
     ]
    }
   ],
   "source": [
    "m = 4000000\n",
    "k = 10\n",
    "for ch in s:\n",
    "    n = cms.count_min(ch)\n",
    "    if .2*m < n < .2*m + 2*m/k  :\n",
    "        print('\\'{}\\' Maybe'.format(ch))\n",
    "    else:\n",
    "        print('\\'{}\\' No'.format(ch))"
   ]
  },
  {
   "cell_type": "code",
   "execution_count": null,
   "metadata": {},
   "outputs": [],
   "source": []
  }
 ],
 "metadata": {
  "kernelspec": {
   "display_name": "Python 3",
   "language": "python",
   "name": "python3"
  },
  "language_info": {
   "codemirror_mode": {
    "name": "ipython",
    "version": 3
   },
   "file_extension": ".py",
   "mimetype": "text/x-python",
   "name": "python",
   "nbconvert_exporter": "python",
   "pygments_lexer": "ipython3",
   "version": "3.6.6"
  }
 },
 "nbformat": 4,
 "nbformat_minor": 2
}
